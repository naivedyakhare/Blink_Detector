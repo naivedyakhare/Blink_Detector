{
 "cells": [
  {
   "cell_type": "code",
   "execution_count": 1,
   "id": "115e0b91",
   "metadata": {},
   "outputs": [],
   "source": [
    "#IMPORTS\n",
    "import cv2\n",
    "import math\n",
    "import numpy as np\n",
    "import dlib\n",
    "import winsound"
   ]
  },
  {
   "cell_type": "code",
   "execution_count": 2,
   "id": "e94563e4",
   "metadata": {},
   "outputs": [],
   "source": [
    "# CREATING VARIABLES TO BE USED\n",
    "FONT = cv2.FONT_HERSHEY_SIMPLEX\n",
    "TEXT_LOCATION = (5,300)\n",
    "SIZE = 2\n",
    "COLOUR = (255,0,0)\n",
    "WEIGHT = 3\n",
    "LINE = 3\n",
    "\n",
    "SOUND_FREQUENCY = 5000\n",
    "SOUND_DURATION = 1000\n",
    "\n",
    "# HELPER FUNCTIONS\n",
    "def midpoint(a, b):\n",
    "    X = (a.x + b.x) // 2\n",
    "    Y = (a.y + b.y) // 2\n",
    "    \n",
    "    return X, Y\n",
    "def length(a, b):\n",
    "    x1, y1 = a[0], a[1]\n",
    "    x2, y2 = b[0], b[1]\n",
    "    \n",
    "    return math.sqrt(((x2-x1)**2) + ((y2-y1)**2))\n"
   ]
  },
  {
   "cell_type": "code",
   "execution_count": 19,
   "id": "ab209896",
   "metadata": {},
   "outputs": [],
   "source": [
    "# C O D E ---\n",
    "cap = cv2.VideoCapture(0)\n",
    "detector = dlib.get_frontal_face_detector()\n",
    "predictor = dlib.shape_predictor(\"shape_predictor_68_face_landmarks.dat\")\n",
    "\n",
    "while True:\n",
    "    frameBool, frame = cap.read()\n",
    "    gray = cv2.cvtColor(frame, cv2.COLOR_BGR2GRAY)\n",
    "    \n",
    "    faces = detector(gray)\n",
    "        \n",
    "    for face in faces:\n",
    "        \n",
    "        landmarks = predictor(gray, face)\n",
    "        left = (landmarks.part(36).x, landmarks.part(36).y)\n",
    "        right = (landmarks.part(39).x, landmarks.part(39).y)\n",
    "        \n",
    "        lineHor = cv2.line(frame, left, right, (0, 255, 0), 2)\n",
    "        \n",
    "        top = midpoint(landmarks.part(37), landmarks.part(38))\n",
    "        bottom = midpoint(landmarks.part(40), landmarks.part(41))\n",
    "        \n",
    "        lineVer = cv2.line(frame, top, bottom, (0, 255, 0), 2)\n",
    "        \n",
    "        lineHorLen= length(left, right)\n",
    "        lineVerLen = length(top, bottom)\n",
    "        \n",
    "        ratio = lineHorLen / lineVerLen\n",
    "        if ratio > 4.5:\n",
    "            cv2.putText(frame,'YOU BLINKED', TEXT_LOCATION, FONT, SIZE, COLOUR, WEIGHT, LINE)\n",
    "#             winsound.Beep(SOUND_FREQUENCY, SOUND_DURATION)\n",
    "            \n",
    "    cv2.imshow(\"frame\", frame)\n",
    "    key = cv2.waitKey(1)\n",
    "    \n",
    "    if key == 27:\n",
    "        break\n",
    "cap.release\n",
    "cv2.destroyAllWindows()"
   ]
  }
 ],
 "metadata": {
  "kernelspec": {
   "display_name": "Python 3 (ipykernel)",
   "language": "python",
   "name": "python3"
  },
  "language_info": {
   "codemirror_mode": {
    "name": "ipython",
    "version": 3
   },
   "file_extension": ".py",
   "mimetype": "text/x-python",
   "name": "python",
   "nbconvert_exporter": "python",
   "pygments_lexer": "ipython3",
   "version": "3.8.11"
  }
 },
 "nbformat": 4,
 "nbformat_minor": 5
}
